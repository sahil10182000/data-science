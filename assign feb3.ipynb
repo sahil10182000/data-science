{
 "cells": [
  {
   "cell_type": "markdown",
   "id": "b9c2d629-1165-49ba-95cb-23a9e3b5b8eb",
   "metadata": {},
   "source": [
    "## Q1. Which keyword is used to create a function? Create a function to return a list of odd numbers in the range of 1 to 25."
   ]
  },
  {
   "cell_type": "code",
   "execution_count": 1,
   "id": "b4012fc2-cb76-4331-8c0a-0d501e09dccf",
   "metadata": {},
   "outputs": [],
   "source": [
    "## 'def keyword is used'"
   ]
  },
  {
   "cell_type": "code",
   "execution_count": 2,
   "id": "6ec3d04d-32d6-4552-ab05-e59ece50f66f",
   "metadata": {},
   "outputs": [],
   "source": [
    "## ex\n",
    "def test1():\n",
    "    odd=[]\n",
    "    for i in range(1,26):\n",
    "        if i % 2==1:\n",
    "            odd.append(i)\n",
    "    return odd        "
   ]
  },
  {
   "cell_type": "code",
   "execution_count": 3,
   "id": "4eca2143-6909-428c-b687-2c0ba0769070",
   "metadata": {},
   "outputs": [
    {
     "data": {
      "text/plain": [
       "[1, 3, 5, 7, 9, 11, 13, 15, 17, 19, 21, 23, 25]"
      ]
     },
     "execution_count": 3,
     "metadata": {},
     "output_type": "execute_result"
    }
   ],
   "source": [
    "test1()"
   ]
  },
  {
   "cell_type": "markdown",
   "id": "5aa05409-c247-4a97-ba78-fb18045a68ac",
   "metadata": {},
   "source": [
    "## Q2. Why *args and **kwargs is used in some functions? Create a function each for *args and **kwargs to demonstrate their use."
   ]
  },
  {
   "cell_type": "code",
   "execution_count": 4,
   "id": "ed745031-cbc0-4f20-a85d-cd984837b986",
   "metadata": {},
   "outputs": [],
   "source": [
    "##*args is used to pass variable number of arguents "
   ]
  },
  {
   "cell_type": "code",
   "execution_count": 5,
   "id": "b2f27849-cce4-4537-9149-a1751e725bbe",
   "metadata": {},
   "outputs": [],
   "source": [
    "def test2(*sahil):\n",
    "    return(sahil)"
   ]
  },
  {
   "cell_type": "code",
   "execution_count": 6,
   "id": "6d4cf33d-11a9-4aac-912a-5f9fd8e252f1",
   "metadata": {},
   "outputs": [
    {
     "data": {
      "text/plain": [
       "(1, 2, 3, 4, 5, 'svfgzzh', 'dgjvxd')"
      ]
     },
     "execution_count": 6,
     "metadata": {},
     "output_type": "execute_result"
    }
   ],
   "source": [
    "test2(1,2,3,4,5,'svfgzzh','dgjvxd')"
   ]
  },
  {
   "cell_type": "code",
   "execution_count": 7,
   "id": "f0f5239c-2ac3-468a-b09a-ca48925409a4",
   "metadata": {},
   "outputs": [],
   "source": [
    "## **kwargs is used to pass variable number of arguents in the form of key value (dictonary) "
   ]
  },
  {
   "cell_type": "code",
   "execution_count": 9,
   "id": "8f30836e-dec2-4e5f-be45-8ad54e110766",
   "metadata": {},
   "outputs": [],
   "source": [
    "def test3(**aaa):\n",
    "    return(aaa)"
   ]
  },
  {
   "cell_type": "code",
   "execution_count": 11,
   "id": "4f70913e-2cca-4461-9899-87acbbe249e9",
   "metadata": {},
   "outputs": [
    {
     "data": {
      "text/plain": [
       "{'a': 1, 'b': 3, 'c': 'adsdsad', 'd': [1, 2, 3, 4]}"
      ]
     },
     "execution_count": 11,
     "metadata": {},
     "output_type": "execute_result"
    }
   ],
   "source": [
    "test3(a=1,b=3,c='adsdsad',d=[1,2,3,4])"
   ]
  },
  {
   "cell_type": "markdown",
   "id": "37d1c775-2f7c-47a6-a703-cc7ddac7f96a",
   "metadata": {},
   "source": [
    "## Q3.  What is an iterator in python? Name the method used to initialise the iterator object and the method used for iteration. Use these methods to print the first five elements of the given list [2, 4, 6, 8, 10, 12, 14, 16, 18, 20]"
   ]
  },
  {
   "cell_type": "code",
   "execution_count": 6,
   "id": "742257ae-9cae-4461-a4fb-779bc59adde7",
   "metadata": {},
   "outputs": [],
   "source": [
    "## iterator in Python is an object that allows you go through all the element one by one element like dctonary, set, tuple list\n",
    "## to initailise iterator object we use iter() function\n",
    "## To iterate over the elements of an iterator we use next() function"
   ]
  },
  {
   "cell_type": "code",
   "execution_count": 18,
   "id": "ec3fec5b-de30-48b8-b664-1733ec7054a4",
   "metadata": {},
   "outputs": [],
   "source": [
    "l1=[2, 4, 6, 8, 10, 12, 14, 16, 18, 20]"
   ]
  },
  {
   "cell_type": "code",
   "execution_count": 19,
   "id": "1799dab1-7388-40e3-940d-4cb5fe8f0ce4",
   "metadata": {},
   "outputs": [],
   "source": [
    "lst=iter(l1)"
   ]
  },
  {
   "cell_type": "code",
   "execution_count": 20,
   "id": "4a645e32-b0a3-42ab-baee-110d42952821",
   "metadata": {},
   "outputs": [
    {
     "name": "stdout",
     "output_type": "stream",
     "text": [
      "2\n",
      "4\n",
      "6\n",
      "8\n",
      "10\n"
     ]
    }
   ],
   "source": [
    "for i in range(0,5):\n",
    "    print(next(lst))"
   ]
  },
  {
   "cell_type": "markdown",
   "id": "56ae178b-09d3-4636-bc20-de0179992361",
   "metadata": {},
   "source": [
    "## 4.  What is a generator function in python? Why yield keyword is used? Give an example of a generator function."
   ]
  },
  {
   "cell_type": "code",
   "execution_count": 21,
   "id": "77d1bb9f-b90d-4690-88cf-6da5779a8475",
   "metadata": {},
   "outputs": [],
   "source": [
    "## A generator is a special type of function which does not return a single value, instead, it returns an iterator object with a sequence of values\n",
    "## a generator function is a special type of function that uses the yield keyword to return an iterator object that can be iterated over"
   ]
  },
  {
   "cell_type": "code",
   "execution_count": 27,
   "id": "8bbb2bd1-db18-4b23-9d5f-2c74bae16d30",
   "metadata": {},
   "outputs": [],
   "source": [
    "def test1(n):\n",
    "    a,b= 0,1\n",
    "    for i in range(n):\n",
    "        yield a\n",
    "        a,b=b,a+b"
   ]
  },
  {
   "cell_type": "code",
   "execution_count": 30,
   "id": "d12b5d00-9d04-47e3-9df4-767ed04fbf28",
   "metadata": {},
   "outputs": [
    {
     "name": "stdout",
     "output_type": "stream",
     "text": [
      "0\n",
      "1\n",
      "1\n",
      "2\n",
      "3\n",
      "5\n",
      "8\n",
      "13\n",
      "21\n",
      "34\n",
      "55\n",
      "89\n"
     ]
    }
   ],
   "source": [
    "for j in test1(12):\n",
    "    print(j)"
   ]
  },
  {
   "cell_type": "markdown",
   "id": "596f852d-9e35-45bd-bf0f-504719b0f9f0",
   "metadata": {},
   "source": [
    "## Q5. Create a generator function for prime numbers less than 1000. Use the next() method to print the first 20 prime numbers."
   ]
  },
  {
   "cell_type": "code",
   "execution_count": 41,
   "id": "476f5858-8c73-4cff-94af-d8960980c826",
   "metadata": {},
   "outputs": [],
   "source": [
    "def test3():\n",
    "    yield 2\n",
    "    primes = [2]\n",
    "    n = 3\n",
    "    while True:\n",
    "        for p in primes:\n",
    "            if n % p == 0:\n",
    "                break\n",
    "        else:\n",
    "            yield n\n",
    "            primes.append(n)\n",
    "        n += 1\n",
    "        if n >= 1000:\n",
    "            break\n"
   ]
  },
  {
   "cell_type": "code",
   "execution_count": 42,
   "id": "8b8289c6-795b-45ae-a6c4-c9de680005dd",
   "metadata": {},
   "outputs": [],
   "source": [
    "prime__number=test3()"
   ]
  },
  {
   "cell_type": "code",
   "execution_count": 43,
   "id": "7e2d8dbb-686e-4b6c-b2d4-434affe226d5",
   "metadata": {},
   "outputs": [
    {
     "name": "stdout",
     "output_type": "stream",
     "text": [
      "2\n",
      "3\n",
      "5\n",
      "7\n",
      "11\n",
      "13\n",
      "17\n",
      "19\n",
      "23\n",
      "29\n",
      "31\n",
      "37\n",
      "41\n",
      "43\n",
      "47\n",
      "53\n",
      "59\n",
      "61\n",
      "67\n",
      "71\n"
     ]
    }
   ],
   "source": [
    "for j in range(0,20):\n",
    "    print(next(prime__number))"
   ]
  },
  {
   "cell_type": "code",
   "execution_count": null,
   "id": "8cc63843-6039-4ef4-9751-208f18855cac",
   "metadata": {},
   "outputs": [],
   "source": []
  }
 ],
 "metadata": {
  "kernelspec": {
   "display_name": "Python 3 (ipykernel)",
   "language": "python",
   "name": "python3"
  },
  "language_info": {
   "codemirror_mode": {
    "name": "ipython",
    "version": 3
   },
   "file_extension": ".py",
   "mimetype": "text/x-python",
   "name": "python",
   "nbconvert_exporter": "python",
   "pygments_lexer": "ipython3",
   "version": "3.10.8"
  }
 },
 "nbformat": 4,
 "nbformat_minor": 5
}
