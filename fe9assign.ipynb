{
 "cells": [
  {
   "cell_type": "markdown",
   "id": "ef2fa5f8-906b-47a5-8e4e-b2c1ab01d5e5",
   "metadata": {},
   "source": [
    "## Q1, Create a vehicle class with an init method having instance variables as name_of_vehicle, max_speedand average_of_vehicle."
   ]
  },
  {
   "cell_type": "code",
   "execution_count": 3,
   "id": "ffb88404-9e3a-4c09-88d4-9dd8d9755045",
   "metadata": {},
   "outputs": [],
   "source": [
    "class vehicle:\n",
    "    def __init__(self,name_of_vehicle,max_speed,average_of_vehicle):\n",
    "        self.name_of_vehicle=name_of_vehicle\n",
    "        self.max_speed=max_speed\n",
    "        self.average_of_vehicle=average_of_vehicle\n",
    "    "
   ]
  },
  {
   "cell_type": "code",
   "execution_count": 46,
   "id": "c089473e-aab3-44ab-8d9a-85d6cf19ce0e",
   "metadata": {},
   "outputs": [],
   "source": [
    "car=vehicle(\"maruti\",160,18)"
   ]
  },
  {
   "cell_type": "code",
   "execution_count": 47,
   "id": "8ba03a2c-99f9-411e-aef7-cb7fdba78c57",
   "metadata": {},
   "outputs": [
    {
     "data": {
      "text/plain": [
       "18"
      ]
     },
     "execution_count": 47,
     "metadata": {},
     "output_type": "execute_result"
    }
   ],
   "source": [
    "car.average_of_vehicle"
   ]
  },
  {
   "cell_type": "code",
   "execution_count": 48,
   "id": "6615e8e3-ea72-41cf-a85b-b12407973e9f",
   "metadata": {},
   "outputs": [
    {
     "data": {
      "text/plain": [
       "160"
      ]
     },
     "execution_count": 48,
     "metadata": {},
     "output_type": "execute_result"
    }
   ],
   "source": [
    "car.max_speed"
   ]
  },
  {
   "cell_type": "code",
   "execution_count": 49,
   "id": "a145060e-9adb-49a7-9d9b-a8ea19088749",
   "metadata": {},
   "outputs": [
    {
     "data": {
      "text/plain": [
       "'maruti'"
      ]
     },
     "execution_count": 49,
     "metadata": {},
     "output_type": "execute_result"
    }
   ],
   "source": [
    "car.name_of_vehicle"
   ]
  },
  {
   "cell_type": "markdown",
   "id": "cf33c7a9-9720-4197-929a-99cb09a45485",
   "metadata": {},
   "source": [
    "## Q2. Create a child class car from the vehicle class created in Que 1, which will inherit the vehicle class.Create a method named seating_capacity which takes capacity as an argument and returns the name ofthe vehicle and its seating capacity."
   ]
  },
  {
   "cell_type": "code",
   "execution_count": 60,
   "id": "edd5004e-67de-409c-b9f0-79477716fd36",
   "metadata": {},
   "outputs": [],
   "source": [
    "class car(vehicle):\n",
    "    def seating_capacity(self,capacity):\n",
    "        return   f\"The Seating Capacity of {self.name_of_vehicle} is {capacity}\""
   ]
  },
  {
   "cell_type": "code",
   "execution_count": 61,
   "id": "8bc8690d-62bb-45cc-abc7-c61c9fcc68da",
   "metadata": {},
   "outputs": [],
   "source": [
    "car1=car(\"maruti\",160,18)"
   ]
  },
  {
   "cell_type": "code",
   "execution_count": 62,
   "id": "70b9c326-0c3f-4421-bb72-d22fca78bda2",
   "metadata": {},
   "outputs": [
    {
     "data": {
      "text/plain": [
       "'The Seating Capacity of maruti is 5'"
      ]
     },
     "execution_count": 62,
     "metadata": {},
     "output_type": "execute_result"
    }
   ],
   "source": [
    "car1.seating_capacity(5)"
   ]
  },
  {
   "cell_type": "markdown",
   "id": "2a81b3c6-7e93-470c-9484-28ae89660ea5",
   "metadata": {},
   "source": [
    "## Q3. What is multiple inheritance? Write a python code to demonstrate multiple inheritance."
   ]
  },
  {
   "cell_type": "code",
   "execution_count": 65,
   "id": "d2c8f6fe-51c1-42ab-aeb0-613d706038fe",
   "metadata": {},
   "outputs": [],
   "source": [
    "# Multiple inheritance is a feature in oops languages that allows a class to inherit attributes\n",
    "# and methods from more than one parent class. \n",
    "# in other words a class can inherit from multiple base classes combining their functionalities into a single derived class"
   ]
  },
  {
   "cell_type": "code",
   "execution_count": 98,
   "id": "8daeed4c-0e6b-48a9-b1a8-bbaff98ceaf6",
   "metadata": {},
   "outputs": [],
   "source": [
    "class Animal:\n",
    "    def __init__(self, name):\n",
    "        self.name = name\n",
    "    def eat(self):\n",
    "        print(f\"{self.name} is eating.\")\n",
    "class Flyable:\n",
    "    def fly(self):\n",
    "        print(f\"{self.name} is flying.\")\n",
    "class Bird(Animal, Flyable):\n",
    "    pass\n",
    "bird = Bird(\"Sparrow\")"
   ]
  },
  {
   "cell_type": "code",
   "execution_count": 100,
   "id": "f5d10937-188d-4c38-9ecf-1998972ed7b8",
   "metadata": {},
   "outputs": [
    {
     "name": "stdout",
     "output_type": "stream",
     "text": [
      "Sparrow is eating.\n",
      "Sparrow is flying.\n"
     ]
    }
   ],
   "source": [
    "bird.eat()  \n",
    "bird.fly()  "
   ]
  },
  {
   "cell_type": "markdown",
   "id": "316eaf64-648f-4bbd-b85c-61fb4ca48d9a",
   "metadata": {},
   "source": [
    "## Q4. What are getter and setter in python? Create a class and create a getter and a setter method in this class."
   ]
  },
  {
   "cell_type": "code",
   "execution_count": 161,
   "id": "2f724529-d6c8-4e44-99cd-94a3086118a7",
   "metadata": {},
   "outputs": [],
   "source": [
    "class console:\n",
    "    def __init__(self, console):\n",
    "        self._console = console\n",
    "\n",
    "    def get_console(self):\n",
    "        return self._console\n",
    "\n",
    "    def set_console(self, console):\n",
    "        self._console = console"
   ]
  },
  {
   "cell_type": "code",
   "execution_count": 162,
   "id": "8c502a6f-b794-41e9-b9ba-c57c7582a389",
   "metadata": {},
   "outputs": [],
   "source": [
    "obj =console(\"xbox\")"
   ]
  },
  {
   "cell_type": "code",
   "execution_count": 163,
   "id": "c48503d9-ac91-43f5-ab9b-6eabd2fbc9f6",
   "metadata": {},
   "outputs": [
    {
     "data": {
      "text/plain": [
       "'xbox'"
      ]
     },
     "execution_count": 163,
     "metadata": {},
     "output_type": "execute_result"
    }
   ],
   "source": [
    "obj.get_console()"
   ]
  },
  {
   "cell_type": "code",
   "execution_count": 164,
   "id": "0c744127-a3bc-4c0c-a440-3ef64054a796",
   "metadata": {},
   "outputs": [],
   "source": [
    "obj.set_console('play station')"
   ]
  },
  {
   "cell_type": "code",
   "execution_count": 166,
   "id": "b147dfc8-f3e8-44e2-b62f-8e484cbf7d19",
   "metadata": {},
   "outputs": [
    {
     "data": {
      "text/plain": [
       "'play station'"
      ]
     },
     "execution_count": 166,
     "metadata": {},
     "output_type": "execute_result"
    }
   ],
   "source": [
    "obj.get_console()"
   ]
  },
  {
   "cell_type": "markdown",
   "id": "5bf57b26-5480-4448-aab9-b255ff4f57e2",
   "metadata": {},
   "source": [
    "## Q5.What is method overriding in python? Write a python code to demonstrate method overriding."
   ]
  },
  {
   "cell_type": "code",
   "execution_count": null,
   "id": "149e620f-3fcc-4aa6-a129-dd6faf51d078",
   "metadata": {},
   "outputs": [],
   "source": [
    "# Method overriding is a feature in oops that allows a subclass to provide\n",
    "# a different implementation of a method that is already defined in its parent class.\n",
    "# The overridden method in the subclass has the same name \n",
    "# and parameters as the method in the parentclass but provides a different implementation."
   ]
  },
  {
   "cell_type": "code",
   "execution_count": null,
   "id": "6b2162f0-56da-4a59-8cf4-22722ba4d252",
   "metadata": {},
   "outputs": [],
   "source": [
    "class Animal:\n",
    "    def make_sound(self):\n",
    "        print(\"The animal makes a sound.\")\n",
    "class Dog(Animal):\n",
    "    def make_sound(self):\n",
    "        print(\"The dog barks.\")\n",
    "class Cat(Animal):\n",
    "    def make_sound(self):\n",
    "        print(\"The cat meows.\")"
   ]
  },
  {
   "cell_type": "code",
   "execution_count": 172,
   "id": "7b859b0f-4556-473e-a77a-4a680bad4f01",
   "metadata": {},
   "outputs": [
    {
     "name": "stdout",
     "output_type": "stream",
     "text": [
      "The animal makes a sound.\n",
      "The dog barks.\n",
      "The cat meows.\n"
     ]
    }
   ],
   "source": [
    "class Animal:\n",
    "    def make_sound(self):\n",
    "        print(\"The animal makes a sound.\")\n",
    "\n",
    "class Dog(Animal):\n",
    "    def make_sound(self):\n",
    "        print(\"The dog barks.\")\n",
    "\n",
    "class Cat(Animal):\n",
    "    def make_sound(self):\n",
    "        print(\"The cat meows.\")\n",
    "\n",
    "animal = Animal()\n",
    "animal.make_sound()  # Output: The animal makes a sound.\n",
    "\n",
    "dog = Dog()\n",
    "dog.make_sound()  # Output: The dog barks.\n",
    "\n",
    "cat = Cat()\n",
    "cat.make_sound()  # Output: The cat meows.\n",
    "\n"
   ]
  },
  {
   "cell_type": "code",
   "execution_count": null,
   "id": "26ef8e61-d0a3-4425-ac12-2c0779cdbfff",
   "metadata": {},
   "outputs": [],
   "source": []
  }
 ],
 "metadata": {
  "kernelspec": {
   "display_name": "Python 3 (ipykernel)",
   "language": "python",
   "name": "python3"
  },
  "language_info": {
   "codemirror_mode": {
    "name": "ipython",
    "version": 3
   },
   "file_extension": ".py",
   "mimetype": "text/x-python",
   "name": "python",
   "nbconvert_exporter": "python",
   "pygments_lexer": "ipython3",
   "version": "3.10.8"
  }
 },
 "nbformat": 4,
 "nbformat_minor": 5
}
