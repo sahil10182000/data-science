{
 "cells": [
  {
   "cell_type": "markdown",
   "id": "d87b3151-4f58-4ad9-b084-d17742e4e48a",
   "metadata": {},
   "source": [
    "## Q1. What are the characteristics of the tuples? Is tuple immutable?"
   ]
  },
  {
   "cell_type": "code",
   "execution_count": 25,
   "id": "0ec4fe96-9899-4cac-b035-f69b06e0d94f",
   "metadata": {},
   "outputs": [],
   "source": [
    "#Tuples are used to store multiple items in a single variable.\"\n",
    "#tuple()\n",
    "#indexed element\n",
    "#hashing is not allowed\n",
    "#they are immutable"
   ]
  },
  {
   "cell_type": "code",
   "execution_count": 26,
   "id": "c7096566-3b2f-4d80-9230-be61a562f0d4",
   "metadata": {},
   "outputs": [],
   "source": [
    "#example\n",
    "t=()"
   ]
  },
  {
   "cell_type": "code",
   "execution_count": 9,
   "id": "2ab06084-9a42-49e8-840e-e80ca48f6a93",
   "metadata": {},
   "outputs": [
    {
     "data": {
      "text/plain": [
       "tuple"
      ]
     },
     "execution_count": 9,
     "metadata": {},
     "output_type": "execute_result"
    }
   ],
   "source": [
    "type(t)"
   ]
  },
  {
   "cell_type": "code",
   "execution_count": 12,
   "id": "76bb93fa-ccf9-4fc5-943a-b48f0b54988b",
   "metadata": {},
   "outputs": [],
   "source": [
    "t1=(1,2,34,5,4)"
   ]
  },
  {
   "cell_type": "code",
   "execution_count": 13,
   "id": "9ad7be47-7cb3-4db4-8ba1-a87bd32aae7c",
   "metadata": {},
   "outputs": [
    {
     "ename": "TypeError",
     "evalue": "'tuple' object does not support item assignment",
     "output_type": "error",
     "traceback": [
      "\u001b[0;31m---------------------------------------------------------------------------\u001b[0m",
      "\u001b[0;31mTypeError\u001b[0m                                 Traceback (most recent call last)",
      "Cell \u001b[0;32mIn[13], line 1\u001b[0m\n\u001b[0;32m----> 1\u001b[0m \u001b[43mt1\u001b[49m\u001b[43m[\u001b[49m\u001b[38;5;241;43m0\u001b[39;49m\u001b[43m]\u001b[49m\u001b[38;5;241m=\u001b[39m\u001b[38;5;241m99\u001b[39m\n",
      "\u001b[0;31mTypeError\u001b[0m: 'tuple' object does not support item assignment"
     ]
    }
   ],
   "source": [
    "t1[0]=99"
   ]
  },
  {
   "cell_type": "markdown",
   "id": "a22d70ad-ff0b-4ffc-bfe4-b31506943b06",
   "metadata": {},
   "source": [
    "## Q2. What are the two tuple methods in python? Give an example of each method. Give a reason why tuples have only two in-built methods as compared to Lists\n"
   ]
  },
  {
   "cell_type": "code",
   "execution_count": 20,
   "id": "83bf18f5-a994-43ae-8c89-5900af2ae6c6",
   "metadata": {},
   "outputs": [],
   "source": [
    "# two method of tuple are count() and index()"
   ]
  },
  {
   "cell_type": "code",
   "execution_count": 14,
   "id": "6fe1ea84-1176-4927-9846-078314694ae9",
   "metadata": {},
   "outputs": [],
   "source": [
    "#count()\n",
    "t2=(1,2,3,4,5,56,57,2,2,2,2,87,667)"
   ]
  },
  {
   "cell_type": "code",
   "execution_count": 15,
   "id": "3ae8ed25-8ec7-4431-8d45-8770ccbe8659",
   "metadata": {},
   "outputs": [
    {
     "data": {
      "text/plain": [
       "5"
      ]
     },
     "execution_count": 15,
     "metadata": {},
     "output_type": "execute_result"
    }
   ],
   "source": [
    "t2.count(2)"
   ]
  },
  {
   "cell_type": "code",
   "execution_count": 21,
   "id": "57c1a9d2-eba1-4386-bdaa-4617cf9bc790",
   "metadata": {},
   "outputs": [],
   "source": [
    "#will count hoe many times 2 came"
   ]
  },
  {
   "cell_type": "code",
   "execution_count": 18,
   "id": "613c8757-7925-4828-ab5d-0bc212a288ab",
   "metadata": {},
   "outputs": [
    {
     "data": {
      "text/plain": [
       "6"
      ]
     },
     "execution_count": 18,
     "metadata": {},
     "output_type": "execute_result"
    }
   ],
   "source": [
    "t2.index(57)"
   ]
  },
  {
   "cell_type": "code",
   "execution_count": 19,
   "id": "189955aa-6aee-450e-a569-291d1ac2cbc4",
   "metadata": {},
   "outputs": [],
   "source": [
    "# will give position of the element"
   ]
  },
  {
   "cell_type": "code",
   "execution_count": 22,
   "id": "6371da94-277d-440f-9e8d-b2f5c22936ed",
   "metadata": {},
   "outputs": [],
   "source": [
    "#Lists have several built-in methods. A unexpected change or error is more likely to occur in a list. \n",
    "#In a tuple, changes and errors don't usually occur because of immutability."
   ]
  },
  {
   "cell_type": "markdown",
   "id": "a820e9a6-7806-4dd0-b260-0b4e5d2573f7",
   "metadata": {},
   "source": [
    "## Q3. Which collection datatypes in python do not allow duplicate items? Write a code using a set to remove duplicates from the given list."
   ]
  },
  {
   "cell_type": "code",
   "execution_count": 24,
   "id": "06eadd01-9a80-4fe7-92a8-6a558295cbbf",
   "metadata": {},
   "outputs": [],
   "source": [
    "## set collection data base doesnot allow duplicacy"
   ]
  },
  {
   "cell_type": "code",
   "execution_count": 27,
   "id": "ecc1f1ea-5ccb-4586-a56f-3ee479b6ee03",
   "metadata": {},
   "outputs": [
    {
     "data": {
      "text/plain": [
       "{1, 2, 3, 4}"
      ]
     },
     "execution_count": 27,
     "metadata": {},
     "output_type": "execute_result"
    }
   ],
   "source": [
    "List = [1, 1, 1, 2, 1, 3, 1, 4, 2, 1, 2, 2, 2, 3, 2, 4, 3, 1, 3, 2, 3, 3, 3, 4, 4, 1, 4, 2, 4, 3, 4, 4]\n",
    "set(List)"
   ]
  },
  {
   "cell_type": "markdown",
   "id": "c8a1c2a9-58ba-4b17-9adc-a3664482e2a2",
   "metadata": {},
   "source": [
    "## Q4. Explain the difference between the union() and update() methods for a set. Give an example of each method."
   ]
  },
  {
   "cell_type": "code",
   "execution_count": 34,
   "id": "0c94cb2b-9f9d-426e-b694-c9fa8d5a788e",
   "metadata": {},
   "outputs": [],
   "source": [
    "s={1,2,3,4,5,6,7,8}"
   ]
  },
  {
   "cell_type": "code",
   "execution_count": 35,
   "id": "3766c690-c034-4507-bed1-fc58e0346e29",
   "metadata": {},
   "outputs": [],
   "source": [
    "s1={1,3,4,5,99,700}"
   ]
  },
  {
   "cell_type": "code",
   "execution_count": 36,
   "id": "ad8d7b43-45ce-4abf-8970-5af52c6436ae",
   "metadata": {},
   "outputs": [
    {
     "data": {
      "text/plain": [
       "{1, 2, 3, 4, 5, 6, 7, 8, 99, 700}"
      ]
     },
     "execution_count": 36,
     "metadata": {},
     "output_type": "execute_result"
    }
   ],
   "source": [
    "s.union(s1)"
   ]
  },
  {
   "cell_type": "code",
   "execution_count": 37,
   "id": "5be97f48-d905-41a8-b652-271afd9fe7c7",
   "metadata": {},
   "outputs": [],
   "source": [
    "##union() method creates a new set that contains all the unique elements from both the original set and another set. "
   ]
  },
  {
   "cell_type": "code",
   "execution_count": 38,
   "id": "8dcb88a7-ca82-49bc-9a92-1164aa918358",
   "metadata": {},
   "outputs": [],
   "source": [
    "s2={900,7676,343,545}"
   ]
  },
  {
   "cell_type": "code",
   "execution_count": 40,
   "id": "ff5d5cdc-c29e-4d7f-84ea-cc4d7258bc88",
   "metadata": {},
   "outputs": [],
   "source": [
    "s.update(s2)"
   ]
  },
  {
   "cell_type": "code",
   "execution_count": 41,
   "id": "b2addc43-9c84-444e-9d55-cbfdb9ddc0ed",
   "metadata": {},
   "outputs": [
    {
     "data": {
      "text/plain": [
       "{1, 2, 3, 4, 5, 6, 7, 8, 343, 545, 900, 7676}"
      ]
     },
     "execution_count": 41,
     "metadata": {},
     "output_type": "execute_result"
    }
   ],
   "source": [
    "s"
   ]
  },
  {
   "cell_type": "code",
   "execution_count": 42,
   "id": "80d8d649-47f9-467e-ac05-2aa165b9f578",
   "metadata": {},
   "outputs": [],
   "source": [
    "##update() method modifies the original set to include all the unique elements from another set ."
   ]
  },
  {
   "cell_type": "markdown",
   "id": "bb79c196-1403-4363-8102-75427fc57d97",
   "metadata": {},
   "source": [
    "## Q5. What is a dictionary? Give an example. Also, state whether a dictionary is ordered or unordered"
   ]
  },
  {
   "cell_type": "code",
   "execution_count": 28,
   "id": "0ec621e7-bff4-4483-a167-bf54e6335ac5",
   "metadata": {},
   "outputs": [],
   "source": [
    "## In Python, a dictionary is a collection datatype that stores key-value pairs"
   ]
  },
  {
   "cell_type": "code",
   "execution_count": 43,
   "id": "7f62a3e6-f547-4f08-82c3-40f1b8f567a5",
   "metadata": {},
   "outputs": [],
   "source": [
    "d1={\"applw\":1,\"banana\": 2,\"cat\":3}"
   ]
  },
  {
   "cell_type": "code",
   "execution_count": 44,
   "id": "1f9717e8-041b-4821-8ef5-44820ed214e6",
   "metadata": {},
   "outputs": [
    {
     "data": {
      "text/plain": [
       "{'applw': 1, 'banana': 2, 'cat': 3}"
      ]
     },
     "execution_count": 44,
     "metadata": {},
     "output_type": "execute_result"
    }
   ],
   "source": [
    "d1"
   ]
  },
  {
   "cell_type": "code",
   "execution_count": 49,
   "id": "5227e2ed-c0c1-496c-9915-7781c533f3e7",
   "metadata": {},
   "outputs": [],
   "source": [
    "## dictionaries are unordered, which means that the order of items in a dictionary is not guaranteed to be the same as the order \n",
    "## in which they were added"
   ]
  },
  {
   "cell_type": "markdown",
   "id": "5798e1a5-0f32-4adb-aa70-55baf68e0716",
   "metadata": {},
   "source": [
    "## Q6. Can we create a nested dictionary? If so, please give an example by creating a simple one-level nested dictionary.Q6. Can we create a nested dictionary? If so, please give an example by creating a simple one-level nested dictionary."
   ]
  },
  {
   "cell_type": "code",
   "execution_count": 2,
   "id": "8611d3d5-deed-4933-9641-4c6625d18e48",
   "metadata": {},
   "outputs": [],
   "source": [
    "## Yes, you can create a nested dictionary in Python. "
   ]
  },
  {
   "cell_type": "code",
   "execution_count": 3,
   "id": "f313c9d0-2775-46a8-88b7-86fc29da0402",
   "metadata": {},
   "outputs": [],
   "source": [
    "d5={\"name\":\"xyz\",\"apple\":{\"is a fruit\":\"starts with a\"},\"age\":{53:67}}"
   ]
  },
  {
   "cell_type": "code",
   "execution_count": 4,
   "id": "0d3493e6-ca6b-4ff6-aa6d-162fb41f83f4",
   "metadata": {},
   "outputs": [
    {
     "data": {
      "text/plain": [
       "{'name': 'xyz', 'apple': {'is a fruit': 'starts with a'}, 'age': {53: 67}}"
      ]
     },
     "execution_count": 4,
     "metadata": {},
     "output_type": "execute_result"
    }
   ],
   "source": [
    "d5"
   ]
  },
  {
   "cell_type": "markdown",
   "id": "fa31a4b5-62e2-4719-95ac-b46ce6301081",
   "metadata": {},
   "source": [
    "## Q7. Using setdefault() method, create key named topics in the given dictionary and also add the value of the key as this list ['Python', 'Machine Learning’, 'Deep Learning']dict1 = {'language' : 'Python', 'course': 'Data Science Masters'}"
   ]
  },
  {
   "cell_type": "code",
   "execution_count": 10,
   "id": "7b5fd781-5b83-4cd7-9055-753b8b084730",
   "metadata": {},
   "outputs": [],
   "source": [
    "dict1 = {'language' : 'Python', 'course': 'Data Science Masters'}"
   ]
  },
  {
   "cell_type": "code",
   "execution_count": 12,
   "id": "79e84bf3-9717-42cb-98ea-869e2b059e91",
   "metadata": {},
   "outputs": [
    {
     "data": {
      "text/plain": [
       "['Python', 'Machine Learning', 'Deep Learning']"
      ]
     },
     "execution_count": 12,
     "metadata": {},
     "output_type": "execute_result"
    }
   ],
   "source": [
    "dict1.setdefault('topics', ['Python', 'Machine Learning', 'Deep Learning'])"
   ]
  },
  {
   "cell_type": "code",
   "execution_count": 13,
   "id": "73aedc53-aae8-4632-b3bf-fddf88894d99",
   "metadata": {},
   "outputs": [
    {
     "data": {
      "text/plain": [
       "{'language': 'Python',\n",
       " 'course': 'Data Science Masters',\n",
       " 'topics': ['Python', 'Machine Learning', 'Deep Learning']}"
      ]
     },
     "execution_count": 13,
     "metadata": {},
     "output_type": "execute_result"
    }
   ],
   "source": [
    "dict1"
   ]
  },
  {
   "cell_type": "markdown",
   "id": "ca48ef5d-74dc-4263-9390-58e16a1d728c",
   "metadata": {},
   "source": [
    "## Q8. What are the three view objects in dictionaries? Use the three in-built methods in python to display these three view objects for the given dictionary./n dict1 = {'Sport': 'Cricket' , 'Teams': ['India', 'Australia', 'England', 'South Africa', 'Sri Lanka', 'New Zealand']"
   ]
  },
  {
   "cell_type": "code",
   "execution_count": 14,
   "id": "b75536cb-0c39-456f-a7d7-8bb3192d2dbe",
   "metadata": {},
   "outputs": [],
   "source": [
    "dict1 = {'Sport': 'Cricket' , 'Teams': ['India', 'Australia', 'England', 'South Africa', 'Sri Lanka', 'New Zealand']}"
   ]
  },
  {
   "cell_type": "code",
   "execution_count": 18,
   "id": "e230da0b-fb16-48f2-8261-c6c488efbd98",
   "metadata": {},
   "outputs": [
    {
     "data": {
      "text/plain": [
       "dict_values(['Cricket', ['India', 'Australia', 'England', 'South Africa', 'Sri Lanka', 'New Zealand']])"
      ]
     },
     "execution_count": 18,
     "metadata": {},
     "output_type": "execute_result"
    }
   ],
   "source": [
    "dict1.values()"
   ]
  },
  {
   "cell_type": "code",
   "execution_count": 19,
   "id": "eaf18c21-5dff-4a05-84d6-a44307b3d931",
   "metadata": {},
   "outputs": [
    {
     "data": {
      "text/plain": [
       "dict_keys(['Sport', 'Teams'])"
      ]
     },
     "execution_count": 19,
     "metadata": {},
     "output_type": "execute_result"
    }
   ],
   "source": [
    "dict1.keys()"
   ]
  },
  {
   "cell_type": "code",
   "execution_count": 20,
   "id": "ce73e502-0c64-49f5-a60f-ee64dd59279c",
   "metadata": {},
   "outputs": [
    {
     "data": {
      "text/plain": [
       "dict_items([('Sport', 'Cricket'), ('Teams', ['India', 'Australia', 'England', 'South Africa', 'Sri Lanka', 'New Zealand'])])"
      ]
     },
     "execution_count": 20,
     "metadata": {},
     "output_type": "execute_result"
    }
   ],
   "source": [
    "dict1.items()"
   ]
  },
  {
   "cell_type": "code",
   "execution_count": null,
   "id": "e537f2f0-c169-4faf-af41-3259b82901a2",
   "metadata": {},
   "outputs": [],
   "source": []
  }
 ],
 "metadata": {
  "kernelspec": {
   "display_name": "Python 3 (ipykernel)",
   "language": "python",
   "name": "python3"
  },
  "language_info": {
   "codemirror_mode": {
    "name": "ipython",
    "version": 3
   },
   "file_extension": ".py",
   "mimetype": "text/x-python",
   "name": "python",
   "nbconvert_exporter": "python",
   "pygments_lexer": "ipython3",
   "version": "3.10.8"
  }
 },
 "nbformat": 4,
 "nbformat_minor": 5
}
