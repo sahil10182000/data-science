{
 "cells": [
  {
   "cell_type": "markdown",
   "id": "8710c8ed-6e19-4704-b4ca-322b5f71525f",
   "metadata": {},
   "source": [
    "## 1.Who developed python programming language? "
   ]
  },
  {
   "cell_type": "code",
   "execution_count": 30,
   "id": "afb40acb-3d05-45a0-a33c-afae72db95f5",
   "metadata": {},
   "outputs": [],
   "source": [
    "#The Python programming language was created by Guido van Rossum. He started developing Python in the late 1980s,"
   ]
  },
  {
   "cell_type": "markdown",
   "id": "08c469a5-221f-4c80-b4be-51ffe51210aa",
   "metadata": {},
   "source": [
    "## 2.which type of programming does python support?"
   ]
  },
  {
   "cell_type": "code",
   "execution_count": 29,
   "id": "f6b7fe63-7f70-40d9-a8c5-7c2c9512a48d",
   "metadata": {},
   "outputs": [],
   "source": [
    "#Procedural Programming, Object-Oriented Programming (OOP),Functional Programming,Imperative Programming,Scripting,Dynamic Programming. \n",
    "   "
   ]
  },
  {
   "cell_type": "markdown",
   "id": "65466615-6168-4584-ae8d-7e9b8709f8dc",
   "metadata": {},
   "source": [
    "## 3.Is python case sensitive when dealing with identifiers?"
   ]
  },
  {
   "cell_type": "code",
   "execution_count": 24,
   "id": "dee26f39-ef25-4259-af9a-c3e961141dbf",
   "metadata": {},
   "outputs": [],
   "source": [
    "# Yes Python is case sensitive when dealing with identifiers,This means that Python distinguishes between uppercase and \n",
    "# lowercase letters in variable names, function names, class names, and other identifiers."
   ]
  },
  {
   "cell_type": "markdown",
   "id": "5cadc4f9-4c60-487c-8643-f9841bf2dba0",
   "metadata": {},
   "source": [
    "## 4. What is the correct extension of the python file?"
   ]
  },
  {
   "cell_type": "code",
   "execution_count": 28,
   "id": "bb493dd1-d032-4a66-a8db-9ed53424eb20",
   "metadata": {},
   "outputs": [],
   "source": [
    "#The correct extension for Python files is '.py.'"
   ]
  },
  {
   "cell_type": "markdown",
   "id": "9925d4cb-1ae6-4bf5-bac4-acebb7bdb551",
   "metadata": {},
   "source": [
    "## 5. Is python code complied or interpreted?"
   ]
  },
  {
   "cell_type": "code",
   "execution_count": 27,
   "id": "a12039d8-6339-449d-858b-0ff9ba7cea6d",
   "metadata": {},
   "outputs": [],
   "source": [
    "#Python is an interpreted programming language. When you write Python code, \n",
    "#it is executed by the Python interpreter line by line, without the need for explicit compilation into machine code."
   ]
  },
  {
   "cell_type": "markdown",
   "id": "8dd26855-17c7-4858-a347-54bbcf0221ac",
   "metadata": {},
   "source": [
    "## 6. Name a few block of code used to define in python language ?"
   ]
  },
  {
   "cell_type": "code",
   "execution_count": 13,
   "id": "10b4a8dd-9771-4313-9b98-92e8e4bebcf6",
   "metadata": {},
   "outputs": [],
   "source": [
    "#Function Definitions\n",
    "#Conditional Statements (if-elif-else)\n",
    "#Looping Constructs (for and while loops)\n",
    "#Class Definitions\n",
    "#Exception Handling (try-except)"
   ]
  },
  {
   "cell_type": "markdown",
   "id": "0fc268cb-e5c9-4f33-9edd-0c66b85c07ad",
   "metadata": {},
   "source": [
    "## 7. State a character used to give single-line comments in python?"
   ]
  },
  {
   "cell_type": "code",
   "execution_count": 15,
   "id": "021e23a0-a381-4682-b006-e257d21cb3b6",
   "metadata": {},
   "outputs": [],
   "source": [
    "# The character \"#\" (hash or pound symbol) is used to indicate single-line comments\n",
    "# When the \"#\" symbol is encountered in a line of code everything after it is considered a comment \n",
    "# and is ignored by the Python interpreter."
   ]
  },
  {
   "cell_type": "markdown",
   "id": "36f99b4f-7ca3-4159-bda4-c8a4d59eccd9",
   "metadata": {},
   "source": [
    "## 8.Mention functions which can help us to find the version of python that we are currently working on?"
   ]
  },
  {
   "cell_type": "code",
   "execution_count": 17,
   "id": "e14d45c1-a8bf-48c0-a4a3-f7e813055f6f",
   "metadata": {},
   "outputs": [],
   "source": [
    "#The function sys. version can help us to find the version of python that we are currently working on"
   ]
  },
  {
   "cell_type": "markdown",
   "id": "afa1a01e-075e-46de-9e80-97246421230d",
   "metadata": {},
   "source": [
    "## 9. Python supports the creation of anonymous functions atruntime, using a construct called __________________ "
   ]
  },
  {
   "cell_type": "code",
   "execution_count": 26,
   "id": "5b42ba67-4035-4924-9a91-cbaaa9587cc4",
   "metadata": {},
   "outputs": [],
   "source": [
    "#lambda"
   ]
  },
  {
   "cell_type": "markdown",
   "id": "911b5500-70dc-4fde-8e97-6b9f766f6f6c",
   "metadata": {},
   "source": [
    "## 10. What does pip stand for python?"
   ]
  },
  {
   "cell_type": "code",
   "execution_count": 19,
   "id": "ff07fd0b-ff24-49f8-998a-c6dfcca9f12c",
   "metadata": {},
   "outputs": [],
   "source": [
    "## The term \"pip\" in Python stands for \"Preferred Installer Program\"."
   ]
  },
  {
   "cell_type": "markdown",
   "id": "591c96f9-8efd-464d-8a6a-dcb874786748",
   "metadata": {},
   "source": [
    "## 11. Mention a few built-in functions in Python?"
   ]
  },
  {
   "cell_type": "code",
   "execution_count": 23,
   "id": "bbddd5d4-408e-4f2d-9f85-5c7718c3884c",
   "metadata": {},
   "outputs": [],
   "source": [
    "## print(): Prints the specified values or variables to the output.\n",
    "#len() \n",
    "#input() \n",
    "#int()\n",
    "#range() \n",
    "#type() \n",
    "#max() \n",
    "#min()\n",
    "#sum()\n",
    "#sorted()\n",
    "#abs()\n",
    "#round()\n",
    "#open()\n",
    "#range()"
   ]
  },
  {
   "cell_type": "markdown",
   "id": "074c215d-7c3a-4d62-bad4-560b3f2cbdc0",
   "metadata": {},
   "source": [
    "## 12. What is the maximum possible length of an identifier in Python"
   ]
  },
  {
   "cell_type": "code",
   "execution_count": 31,
   "id": "0dd825e2-1502-4f4e-bc31-443871680999",
   "metadata": {},
   "outputs": [],
   "source": [
    "#An identifier can have a maximum length of 79 characters in Python"
   ]
  },
  {
   "cell_type": "markdown",
   "id": "1fa36a4d-740c-4586-99bd-d74c8a2f9e23",
   "metadata": {},
   "source": [
    "## 13.What are the benefits of using Python?"
   ]
  },
  {
   "cell_type": "code",
   "execution_count": 33,
   "id": "101d2b8e-4001-444a-aeb3-60ecd6ae1c92",
   "metadata": {},
   "outputs": [],
   "source": [
    "## Using Python offers several benefits, making it a popular choice among developers. Here are some key advantages of using Python:\n",
    "\n",
    "## 1.Large and Active Community: Python has a vast and supportive community of developers, which means there are numerous resources, libraries, and \n",
    "#frameworks available for almost any task or domain.\n",
    "\n",
    "## 2. Cross-Platform Compatibility: Python is a cross-platform language meaning it runs on various operating systems such as Windows, macOS, and Linux. \n",
    "\n",
    "## 3. Extensive Standard Library: Python comes with a comprehensive standard library that provides a wide range of modules and functions for tasks\n",
    "#like file handling, networking, web development, data manipulation, and more.\n",
    "\n",
    "## 4. Integration Capabilities: Python has strong integration capabilities  enabling developers to easily integrate with other languages \n",
    "#like C/C++, Java, and .NET. \n",
    "\n",
    "## 5. Data Analysis and Scientific Computing: Python has gained popularity in the data science and scientific computing fields due to libraries \n",
    "#such as NumPy, Pandas, SciPy, and scikit-learn.\n",
    "\n",
    "## 6.These are just some of the benefits of using Python. Its versatility, ease of use, extensive library ecosystem, and\n",
    "#strong community support make it a versatile language for a wide range of applications, from web development and scripting to data analysis and machine learning."
   ]
  },
  {
   "cell_type": "markdown",
   "id": "bb7a6aca-ddc4-4570-9896-18ecefc2eaa4",
   "metadata": {},
   "source": [
    "## 14.  How is memory managed in Python?"
   ]
  },
  {
   "cell_type": "code",
   "execution_count": 34,
   "id": "95cba144-c1f9-4299-a0d6-57b6595672fe",
   "metadata": {},
   "outputs": [],
   "source": [
    "## Memory management in Python involves a private heap containing all Python objects and data structures. \n",
    "#The management of this private heap is ensured internally by the Python memory manager. The Python memory manager has different components which deal \n",
    "#with various dynamic storage management aspects, like sharing, segmentation, preallocation or caching."
   ]
  },
  {
   "cell_type": "markdown",
   "id": "bb7e4f59-455c-4a56-a424-00bc30f2289c",
   "metadata": {},
   "source": [
    "## 15.How to install Python on Windows and set path variables?"
   ]
  },
  {
   "cell_type": "code",
   "execution_count": 35,
   "id": "8efcb757-bed6-4a4b-8336-06746f7bde11",
   "metadata": {},
   "outputs": [],
   "source": [
    "##To install Python on Windows and set the path variables, you can follow these steps:\n",
    "\n",
    "#Download Python: Visit the official Python website at https://www.python.org/ and navigate to the Downloads section. \n",
    "#Choose the appropriate Python version for your Windows system (32-bit or 64-bit) and download the installer.\n",
    "\n",
    "#Run the Installer: Once the installer is downloaded, double-click on it to run it. \n",
    "#Make sure to select the option to \"Add Python to PATH\" during the installation process.\n",
    "\n",
    "#Customize Installation (Optional): You can customize the installation by selecting optional features or changing the installation location. \n",
    "#For most users, the default settings are sufficient.\n",
    "\n",
    "#Complete the Installation: Proceed with the installation by following the prompts. The installer will copy the necessary files and set up Python on your system.\n",
    "\n",
    "#Verify Python Installation: Open the Command Prompt by pressing the Windows key + R, typing \"cmd,\" and pressing Enter. In the Command Prompt,\n",
    "#type python --version and press Enter. If Python is installed correctly, it will display the installed Python version.\n",
    "\n",
    "#Set Path Variables: To set the path variables, you need to add the Python installation directory to the system's PATH environment variable.\n",
    "#Follow these steps:\n",
    "\n",
    "#a. Open the Start menu and search for \"Environment Variables\" and select \"Edit the system environment variables.\"\n",
    "\n",
    "#b. In the System Properties window, click on the \"Environment Variables\" button.\n",
    "\n",
    "#c. In the Environment Variables window, under the \"System variables\" section, select the \"Path\" variable and click on the \"Edit\" button.\n",
    "\n",
    "#d. In the Edit Environment Variable window, click on the \"New\" button and add the path to the Python installation directory. \n",
    "#The default installation path is typically C:\\PythonXX\\ (where \"XX\" represents the version number).\n",
    "\n",
    "#e. Click \"OK\" to close all the windows.\n",
    "\n",
    "#Verify Path Configuration: Open a new Command Prompt window and type python followed by Enter.\n",
    "#If Python is successfully added to the PATH, the Python interactive shell should open without any errors.\n",
    "\n",
    "#By following these steps, you can install Python on Windows and set the necessary path variables, \n",
    "#allowing you to run Python commands and scripts from any directory in the Command Prompt."
   ]
  },
  {
   "cell_type": "markdown",
   "id": "2652a754-e217-404a-bddc-2b30fe540c23",
   "metadata": {},
   "source": [
    "## 16. Is indentation required In python?\n"
   ]
  },
  {
   "cell_type": "code",
   "execution_count": 36,
   "id": "60baa9d1-3725-4f24-89ae-79cbdbf49705",
   "metadata": {},
   "outputs": [],
   "source": [
    "##Yes indentation is required in Python. Unlike many other programming languages that use braces or explicit keywords to define blocks of code,\n",
    "#Python uses indentation to indicate the structure and hierarchy of the code."
   ]
  },
  {
   "cell_type": "code",
   "execution_count": null,
   "id": "2294a981-9291-4e1f-84c4-95bc7289e8c2",
   "metadata": {},
   "outputs": [],
   "source": []
  }
 ],
 "metadata": {
  "kernelspec": {
   "display_name": "Python 3 (ipykernel)",
   "language": "python",
   "name": "python3"
  },
  "language_info": {
   "codemirror_mode": {
    "name": "ipython",
    "version": 3
   },
   "file_extension": ".py",
   "mimetype": "text/x-python",
   "name": "python",
   "nbconvert_exporter": "python",
   "pygments_lexer": "ipython3",
   "version": "3.10.8"
  }
 },
 "nbformat": 4,
 "nbformat_minor": 5
}
