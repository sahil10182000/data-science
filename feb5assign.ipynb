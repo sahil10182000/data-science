{
 "cells": [
  {
   "cell_type": "markdown",
   "id": "c725d01e-1d1b-4b4e-9d7b-9a3ee5514d3d",
   "metadata": {},
   "source": [
    "## Q1. Explain Class and Object with respect to Object-Oriented Programming. Give a suitable example."
   ]
  },
  {
   "cell_type": "code",
   "execution_count": 3,
   "id": "b7ba32ab-88fc-4831-afa3-e1bf2442b9fc",
   "metadata": {},
   "outputs": [],
   "source": [
    "## a class is a blueprint or a template that defines the structure and behavior of objects in object-oriented programming"
   ]
  },
  {
   "cell_type": "code",
   "execution_count": 4,
   "id": "5a50cbc1-fe5f-423a-b7ac-1b0c84631ff1",
   "metadata": {},
   "outputs": [],
   "source": [
    "## An object on the other hand is an instance of a class.It is a concrete representation of a class and \n",
    "## has its own unique state and behavior"
   ]
  },
  {
   "cell_type": "code",
   "execution_count": 12,
   "id": "3238c48e-7496-4219-a6ec-80b31dd7af1e",
   "metadata": {},
   "outputs": [],
   "source": [
    "class car:\n",
    "    def __init__( abc,color,brand):\n",
    "        abc.color=color\n",
    "        abc.brand=brand\n",
    "    \n",
    "    def return_car_details(abc):\n",
    "        return(abc.color,abc.brand)\n",
    "     "
   ]
  },
  {
   "cell_type": "code",
   "execution_count": 16,
   "id": "bfbda947-4444-4322-b7a5-72816572374a",
   "metadata": {},
   "outputs": [],
   "source": [
    "car1=car(\"white\",\"volvo\")\n",
    "car2=car(\"black\",\"skoda\")"
   ]
  },
  {
   "cell_type": "code",
   "execution_count": 18,
   "id": "2f0c2a77-c87f-41ab-abbc-44bf114ca05b",
   "metadata": {},
   "outputs": [
    {
     "data": {
      "text/plain": [
       "'white'"
      ]
     },
     "execution_count": 18,
     "metadata": {},
     "output_type": "execute_result"
    }
   ],
   "source": [
    "car1.color"
   ]
  },
  {
   "cell_type": "code",
   "execution_count": 19,
   "id": "a03c638c-6127-40f0-8fd4-1fb1ddc5ba87",
   "metadata": {},
   "outputs": [
    {
     "data": {
      "text/plain": [
       "'skoda'"
      ]
     },
     "execution_count": 19,
     "metadata": {},
     "output_type": "execute_result"
    }
   ],
   "source": [
    "car2.brand"
   ]
  },
  {
   "cell_type": "code",
   "execution_count": 20,
   "id": "92fc72f8-b941-46ea-a53b-50c2d85a4781",
   "metadata": {},
   "outputs": [
    {
     "data": {
      "text/plain": [
       "('white', 'volvo')"
      ]
     },
     "execution_count": 20,
     "metadata": {},
     "output_type": "execute_result"
    }
   ],
   "source": [
    "car1.return_car_details()"
   ]
  },
  {
   "cell_type": "markdown",
   "id": "3134cdcf-2344-4293-ad7a-38457d558156",
   "metadata": {},
   "source": [
    "## Q2. Name the four pillars of OOPs."
   ]
  },
  {
   "cell_type": "code",
   "execution_count": 7,
   "id": "b331f845-04d1-4d1c-bd5d-34f722af4c48",
   "metadata": {},
   "outputs": [],
   "source": [
    "## The four pillars of object-oriented programming (OOP)"
   ]
  },
  {
   "cell_type": "code",
   "execution_count": 4,
   "id": "edc2dbf6-4be2-4ad2-8462-d268925005a4",
   "metadata": {},
   "outputs": [],
   "source": [
    "## Encapsulation refers to the bundling of data and the methods that operate on that data into a single\n",
    "## unit called an object"
   ]
  },
  {
   "cell_type": "code",
   "execution_count": 5,
   "id": "0661713b-886b-4fad-a378-97bb89a3b049",
   "metadata": {},
   "outputs": [],
   "source": [
    "## Inheritance is a mechanism that allows a class to inherit properties and behaviors from another class. "
   ]
  },
  {
   "cell_type": "code",
   "execution_count": 6,
   "id": "8a71711a-16ac-4540-ba1d-1c064fb276f0",
   "metadata": {},
   "outputs": [],
   "source": [
    "## Polymorphism means the ability of objects of different classes to respond to the same message or\n",
    "## method invocation in different ways"
   ]
  },
  {
   "cell_type": "code",
   "execution_count": 8,
   "id": "9ed29f2d-defa-45c8-aebd-0596f3dc0419",
   "metadata": {},
   "outputs": [],
   "source": [
    "## Abstraction involves simplifying complex systems by breaking them down into smaller and more manageable units"
   ]
  },
  {
   "cell_type": "markdown",
   "id": "69fb07c5-0987-48cd-bfc2-d9cd3445662b",
   "metadata": {},
   "source": [
    "## Q3. Explain why the __init__() function is used. Give a suitable example."
   ]
  },
  {
   "cell_type": "code",
   "execution_count": 9,
   "id": "ee3d4fe1-c5e4-4a83-a8c5-ddb1c437c87a",
   "metadata": {},
   "outputs": [],
   "source": [
    "## the __init__() function is a special method used in Python classes"
   ]
  },
  {
   "cell_type": "code",
   "execution_count": 10,
   "id": "c0f59586-492b-4d4d-a8b7-59071a6d1b19",
   "metadata": {},
   "outputs": [],
   "source": [
    "## It is also known as the constructor method"
   ]
  },
  {
   "cell_type": "code",
   "execution_count": 11,
   "id": "b58a56aa-daae-480a-8493-1fbd553fd316",
   "metadata": {},
   "outputs": [],
   "source": [
    "## The primary purpose of the __init__() function is to initialize the object's attributes or\n",
    "## properties when an instance of the class is created."
   ]
  },
  {
   "cell_type": "code",
   "execution_count": 12,
   "id": "33e04df4-d800-453f-99b4-7f81b7e6542f",
   "metadata": {},
   "outputs": [],
   "source": [
    "class car:\n",
    "    def __init__( abc,color,brand):\n",
    "        abc.color=color\n",
    "        abc.brand=brand\n",
    "    \n",
    "    def return_car_details(abc):\n",
    "        return(abc.color,abc.brand)"
   ]
  },
  {
   "cell_type": "code",
   "execution_count": 13,
   "id": "d7c0f21e-51ca-459d-8b0c-66a08b197d48",
   "metadata": {},
   "outputs": [],
   "source": [
    "car1=car(\"white\",\"volvo\")\n",
    "car2=car(\"black\",\"skoda\")"
   ]
  },
  {
   "cell_type": "code",
   "execution_count": 14,
   "id": "bbcdb067-0959-401f-947d-0f478531f06e",
   "metadata": {},
   "outputs": [
    {
     "data": {
      "text/plain": [
       "'white'"
      ]
     },
     "execution_count": 14,
     "metadata": {},
     "output_type": "execute_result"
    }
   ],
   "source": [
    "car1.color"
   ]
  },
  {
   "cell_type": "code",
   "execution_count": 15,
   "id": "4c46465d-252a-405a-b954-8a739333ed15",
   "metadata": {},
   "outputs": [],
   "source": [
    "## in this example the __init__() function is used to initialize \n",
    "## the attributes color, brand, and return_car_details of the car class. "
   ]
  },
  {
   "cell_type": "markdown",
   "id": "39c415b2-dd8d-4879-b45f-aa0626eb052c",
   "metadata": {},
   "source": [
    "## Q4 Why self is used in OOPs?"
   ]
  },
  {
   "cell_type": "code",
   "execution_count": 16,
   "id": "6149eee0-e5f8-4247-9909-c9476e23b556",
   "metadata": {},
   "outputs": [],
   "source": [
    "## the self keyword is used to refer to the instance of a class within its methods.\n",
    "## It is a convention in many programming languagesincluding Python, \n",
    "## to use the name self as the first parameter of instance methods."
   ]
  },
  {
   "cell_type": "code",
   "execution_count": 25,
   "id": "1932a34d-b353-4c8a-a805-e546da576874",
   "metadata": {},
   "outputs": [],
   "source": [
    "class Person:\n",
    "    def __init__(self, name, age):\n",
    "        self.name = name\n",
    "        self.age = age\n",
    "\n",
    "    def introduce(self):\n",
    "        return(f\"Hello my name is {self.name} and I am {self.age} years old\")"
   ]
  },
  {
   "cell_type": "code",
   "execution_count": 23,
   "id": "124f33c7-0c58-4969-89d9-ca041e1c92bf",
   "metadata": {},
   "outputs": [],
   "source": [
    "person = Person(\"sahil\", 22)"
   ]
  },
  {
   "cell_type": "code",
   "execution_count": 26,
   "id": "2523cb5b-185f-4e10-ac21-8b99230aa009",
   "metadata": {},
   "outputs": [
    {
     "data": {
      "text/plain": [
       "'Hello my name is sahil and I am 22 years old.'"
      ]
     },
     "execution_count": 26,
     "metadata": {},
     "output_type": "execute_result"
    }
   ],
   "source": [
    "person.introduce()"
   ]
  },
  {
   "cell_type": "code",
   "execution_count": 27,
   "id": "46ebc46c-348a-4ad4-a0c4-f29695a86fc1",
   "metadata": {},
   "outputs": [],
   "source": [
    "## the self parameter is used in both the __init__() method and the introduce() method.\n",
    "## Inside the introduce() method, self.name and self.age are used\n",
    "## to access the instance variables name and age of the object to introduce itself.\n",
    "## The self parameter binds the method to the object and allows it to access its own attributes."
   ]
  },
  {
   "cell_type": "markdown",
   "id": "a1d1d6fa-83c9-4df5-8bfb-975971b32042",
   "metadata": {},
   "source": [
    "## Q5. What is inheritance? Give an example for each type of inheritance."
   ]
  },
  {
   "cell_type": "code",
   "execution_count": 30,
   "id": "430e02ca-1ff6-49a7-80db-f28dd2b759a1",
   "metadata": {},
   "outputs": [],
   "source": [
    "## inheritance is a fundamental concept in object-oriented programming (OOP) that allows a class to inherit properties \n",
    "## and behaviors from another class. "
   ]
  },
  {
   "cell_type": "code",
   "execution_count": 32,
   "id": "e6175f58-40d6-45e4-8167-1a7fa9122df8",
   "metadata": {},
   "outputs": [],
   "source": [
    "## type of inheritance"
   ]
  },
  {
   "cell_type": "code",
   "execution_count": 33,
   "id": "af23b210-7383-4e1c-8fec-e642fbf75c4f",
   "metadata": {},
   "outputs": [],
   "source": [
    "## Single Inheritance: Single inheritance refers to a situation where a class inherits from a single base class. "
   ]
  },
  {
   "cell_type": "code",
   "execution_count": 40,
   "id": "50119e96-6f67-4e46-ae3b-a5f9fdd3f0a6",
   "metadata": {},
   "outputs": [],
   "source": [
    "class Animal:\n",
    "    def eat(self):\n",
    "        return(\"The animal is eating\")\n",
    "\n",
    "class lion(Animal):\n",
    "    def roar(self):\n",
    "        return(\"The lion roars \")"
   ]
  },
  {
   "cell_type": "code",
   "execution_count": 42,
   "id": "5374d886-a5cd-4ffc-b9fc-0197153ba4ec",
   "metadata": {},
   "outputs": [],
   "source": [
    "lioN =lion()"
   ]
  },
  {
   "cell_type": "code",
   "execution_count": 43,
   "id": "7e583a99-e4f4-46a3-8f0b-387f7eb0a518",
   "metadata": {},
   "outputs": [
    {
     "data": {
      "text/plain": [
       "'The animal is eating'"
      ]
     },
     "execution_count": 43,
     "metadata": {},
     "output_type": "execute_result"
    }
   ],
   "source": [
    "lioN.eat()"
   ]
  },
  {
   "cell_type": "code",
   "execution_count": 44,
   "id": "6fa3b63d-34aa-4e17-9de5-85a5b81b6216",
   "metadata": {},
   "outputs": [
    {
     "data": {
      "text/plain": [
       "'The lion roars '"
      ]
     },
     "execution_count": 44,
     "metadata": {},
     "output_type": "execute_result"
    }
   ],
   "source": [
    "lioN.roar()"
   ]
  },
  {
   "cell_type": "code",
   "execution_count": 45,
   "id": "cdebd3dc-96e9-48f8-9fff-72959c775368",
   "metadata": {},
   "outputs": [],
   "source": [
    "## the lion class inherits from the Animal class using single inheritance. \n",
    "## The lion class can access the eat method defined in the Animal class along with its own roar method."
   ]
  },
  {
   "cell_type": "code",
   "execution_count": 46,
   "id": "698aec52-b33a-4d2d-bda6-4df3e7d1c882",
   "metadata": {},
   "outputs": [],
   "source": [
    "## Multiple inheritance allows a class to inherit from multiple base classes"
   ]
  },
  {
   "cell_type": "code",
   "execution_count": 48,
   "id": "8625abfb-fec3-4f64-8f8b-ce64494d5244",
   "metadata": {},
   "outputs": [],
   "source": [
    "class Vehicle:\n",
    "    def drive(self):\n",
    "        return(\"The vehicle is driving\")\n",
    "\n",
    "class MusicPlayer:\n",
    "    def play_music(self):\n",
    "        return(\"The music player is playing music\")\n",
    "\n",
    "class Car(Vehicle, MusicPlayer):\n",
    "    def honk(self):\n",
    "        return(\"The car is honking\")\n",
    "car = Car()"
   ]
  },
  {
   "cell_type": "code",
   "execution_count": 50,
   "id": "b6f59e0a-4b9a-445f-840a-3d52f0cbfcb2",
   "metadata": {},
   "outputs": [],
   "source": [
    "car=Car()"
   ]
  },
  {
   "cell_type": "code",
   "execution_count": 52,
   "id": "a4c4c6db-ac2c-4f9d-b488-3558f3175e7c",
   "metadata": {},
   "outputs": [
    {
     "data": {
      "text/plain": [
       "'The vehicle is driving'"
      ]
     },
     "execution_count": 52,
     "metadata": {},
     "output_type": "execute_result"
    }
   ],
   "source": [
    "car.drive() "
   ]
  },
  {
   "cell_type": "code",
   "execution_count": 53,
   "id": "4a3023b0-0b8e-4853-8980-4c127a4a2259",
   "metadata": {},
   "outputs": [
    {
     "data": {
      "text/plain": [
       "'The music player is playing music'"
      ]
     },
     "execution_count": 53,
     "metadata": {},
     "output_type": "execute_result"
    }
   ],
   "source": [
    "car.play_music()  "
   ]
  },
  {
   "cell_type": "code",
   "execution_count": 54,
   "id": "1c1c9ad5-6d3f-4f13-9bf4-992a99a2db11",
   "metadata": {},
   "outputs": [
    {
     "data": {
      "text/plain": [
       "'The car is honking'"
      ]
     },
     "execution_count": 54,
     "metadata": {},
     "output_type": "execute_result"
    }
   ],
   "source": [
    "car.honk()"
   ]
  },
  {
   "cell_type": "code",
   "execution_count": 55,
   "id": "403b1c97-34bf-4683-9eca-66986765bc29",
   "metadata": {},
   "outputs": [],
   "source": [
    "## the Car class inherits from both the Vehicle class and the MusicPlayer class using multiple inheritance\n",
    "## The Car class can access the methods from both base classes along with its own honk method"
   ]
  },
  {
   "cell_type": "code",
   "execution_count": 56,
   "id": "0ddf44d6-e0ef-4e11-a4da-7a603969933a",
   "metadata": {},
   "outputs": [],
   "source": [
    "## Multilevel inheritance occurs when a derived class inherits from another derived class"
   ]
  },
  {
   "cell_type": "code",
   "execution_count": 57,
   "id": "cea4d2ea-0260-4d85-b1d1-0727452eae3d",
   "metadata": {},
   "outputs": [],
   "source": [
    "class Animal:\n",
    "    def eat(self):\n",
    "        return(\"The animal is eating\")\n",
    "\n",
    "class Dog(Animal):\n",
    "    def bark(self):\n",
    "        return(\"The dog is barking\")\n",
    "\n",
    "class Bulldog(Dog):\n",
    "    def guard(self):\n",
    "        return(\"The bulldog is guarding\")"
   ]
  },
  {
   "cell_type": "code",
   "execution_count": 58,
   "id": "df94dfc1-c511-4b0d-8149-6f5c92f592a4",
   "metadata": {},
   "outputs": [],
   "source": [
    "bulldog= Bulldog()"
   ]
  },
  {
   "cell_type": "code",
   "execution_count": 59,
   "id": "b11474a1-0ac1-47bb-b5fc-b070c6366da0",
   "metadata": {},
   "outputs": [
    {
     "data": {
      "text/plain": [
       "'The animal is eating'"
      ]
     },
     "execution_count": 59,
     "metadata": {},
     "output_type": "execute_result"
    }
   ],
   "source": [
    "bulldog.eat()"
   ]
  },
  {
   "cell_type": "code",
   "execution_count": 60,
   "id": "e348792e-bca7-4cf6-9b1c-c340d1fc0a71",
   "metadata": {},
   "outputs": [
    {
     "data": {
      "text/plain": [
       "'The dog is barking'"
      ]
     },
     "execution_count": 60,
     "metadata": {},
     "output_type": "execute_result"
    }
   ],
   "source": [
    "bulldog.bark()"
   ]
  },
  {
   "cell_type": "code",
   "execution_count": 61,
   "id": "aa3550ba-56d1-415d-9355-659789a4621b",
   "metadata": {},
   "outputs": [
    {
     "data": {
      "text/plain": [
       "'The bulldog is guarding'"
      ]
     },
     "execution_count": 61,
     "metadata": {},
     "output_type": "execute_result"
    }
   ],
   "source": [
    "bulldog.guard()"
   ]
  },
  {
   "cell_type": "code",
   "execution_count": 62,
   "id": "3b119e0d-72e0-498c-98a9-2304cd6adcde",
   "metadata": {},
   "outputs": [],
   "source": [
    "## the Bulldog class inherits from the Dog class which itself inherits from the Animal class\n",
    "## The Bulldog class can access the methods from all the ancestor classes:eat\n",
    "## from Animal, bark, from Dog, and its own guard method."
   ]
  },
  {
   "cell_type": "code",
   "execution_count": null,
   "id": "8cdf2cb5-90ff-422b-8699-3fcdb34b3d18",
   "metadata": {},
   "outputs": [],
   "source": []
  }
 ],
 "metadata": {
  "kernelspec": {
   "display_name": "Python 3 (ipykernel)",
   "language": "python",
   "name": "python3"
  },
  "language_info": {
   "codemirror_mode": {
    "name": "ipython",
    "version": 3
   },
   "file_extension": ".py",
   "mimetype": "text/x-python",
   "name": "python",
   "nbconvert_exporter": "python",
   "pygments_lexer": "ipython3",
   "version": "3.10.8"
  }
 },
 "nbformat": 4,
 "nbformat_minor": 5
}
