{
 "cells": [
  {
   "cell_type": "markdown",
   "id": "0c311880-88f8-40f0-a0d4-9fb05d8e7e46",
   "metadata": {},
   "source": [
    "## Q1. Create a python program to sort the given list of tuples based on integer value using a lambda function."
   ]
  },
  {
   "cell_type": "code",
   "execution_count": 27,
   "id": "4369597d-489d-4579-b83e-b6b9b2aeb002",
   "metadata": {},
   "outputs": [],
   "source": [
    "l1= [('Sachin Tendulkar', 34357), ('Ricky Ponting', 27483), ('Jack Kallis', 25534), ('Virat Kohli', 24936)]"
   ]
  },
  {
   "cell_type": "code",
   "execution_count": 28,
   "id": "3c6dce43-b4b3-4c4d-aabf-f9a51c27442a",
   "metadata": {},
   "outputs": [],
   "source": [
    "l2 = sorted(l1, key=lambda x: x[1])"
   ]
  },
  {
   "cell_type": "code",
   "execution_count": 29,
   "id": "c1318f45-5cf2-4a01-a542-9004d208e9d8",
   "metadata": {},
   "outputs": [
    {
     "name": "stdout",
     "output_type": "stream",
     "text": [
      "[('Virat Kohli', 24936), ('Jack Kallis', 25534), ('Ricky Ponting', 27483), ('Sachin Tendulkar', 34357)]\n"
     ]
    }
   ],
   "source": [
    "print(l2)"
   ]
  },
  {
   "cell_type": "markdown",
   "id": "d120538e-9938-4497-81e6-570ac05c82ba",
   "metadata": {},
   "source": [
    "## Q2. Write a Python Program to find the squares of all the numbers in the given list of integers using lambda and map functions."
   ]
  },
  {
   "cell_type": "code",
   "execution_count": 31,
   "id": "19e9b2bb-2305-4579-901a-17860fb81a17",
   "metadata": {},
   "outputs": [],
   "source": [
    "l3=[1,2,3,4,5,6,7,8,9,10]"
   ]
  },
  {
   "cell_type": "code",
   "execution_count": 35,
   "id": "76e46157-1177-400f-afff-e45dfff44ca5",
   "metadata": {},
   "outputs": [
    {
     "data": {
      "text/plain": [
       "[1, 4, 9, 16, 25, 36, 49, 64, 81, 100]"
      ]
     },
     "execution_count": 35,
     "metadata": {},
     "output_type": "execute_result"
    }
   ],
   "source": [
    "list(map(lambda x: x**2,l3))"
   ]
  },
  {
   "cell_type": "markdown",
   "id": "1feed77e-b130-4150-a816-fd93180e5455",
   "metadata": {},
   "source": [
    "## Q3. Write a python program to convert the given list of integers into a tuple of strings. Use map and lambda functions"
   ]
  },
  {
   "cell_type": "code",
   "execution_count": 36,
   "id": "a6413dbd-ee48-4089-a911-1496ef4807a0",
   "metadata": {},
   "outputs": [
    {
     "data": {
      "text/plain": [
       "[1, 2, 3, 4, 5, 6, 7, 8, 9, 10]"
      ]
     },
     "execution_count": 36,
     "metadata": {},
     "output_type": "execute_result"
    }
   ],
   "source": [
    "l3"
   ]
  },
  {
   "cell_type": "code",
   "execution_count": 40,
   "id": "a3a3e473-1778-42d0-be53-c93b9de35dcd",
   "metadata": {},
   "outputs": [
    {
     "data": {
      "text/plain": [
       "['1', '2', '3', '4', '5', '6', '7', '8', '9', '10']"
      ]
     },
     "execution_count": 40,
     "metadata": {},
     "output_type": "execute_result"
    }
   ],
   "source": [
    "list(map(lambda x:str(x),l3))"
   ]
  },
  {
   "cell_type": "markdown",
   "id": "39427c8f-10ea-46de-9580-71126e602923",
   "metadata": {},
   "source": [
    "## Q4.  Write a python program using reduce function to compute the product of a list containing numbers from 1 to 25"
   ]
  },
  {
   "cell_type": "code",
   "execution_count": 41,
   "id": "db20044d-d1be-4a2d-9e85-ad08a0b6c832",
   "metadata": {},
   "outputs": [],
   "source": [
    "l4=range(1,26)"
   ]
  },
  {
   "cell_type": "code",
   "execution_count": 44,
   "id": "cb5a3db2-6a8a-4229-923e-d2931295c3fc",
   "metadata": {},
   "outputs": [],
   "source": [
    "from functools import reduce"
   ]
  },
  {
   "cell_type": "code",
   "execution_count": 53,
   "id": "9645a0cd-357a-45f9-9f98-0ae1d7eba6ca",
   "metadata": {},
   "outputs": [
    {
     "data": {
      "text/plain": [
       "15511210043330985984000000"
      ]
     },
     "execution_count": 53,
     "metadata": {},
     "output_type": "execute_result"
    }
   ],
   "source": [
    "reduce(lambda x,y:x*y,l4)"
   ]
  },
  {
   "cell_type": "markdown",
   "id": "3807908a-89cf-4f48-8f6b-5bbd4e0319e9",
   "metadata": {},
   "source": [
    "## Q5. Write a python program to filter the numbers in a given list that are divisible by 2 and 3 using the filter function."
   ]
  },
  {
   "cell_type": "code",
   "execution_count": 54,
   "id": "2c515a9e-c6bf-4423-9e41-79ffcd92bf97",
   "metadata": {},
   "outputs": [],
   "source": [
    "l6=[2, 3, 6, 9, 27, 60, 90, 120, 55, 46]"
   ]
  },
  {
   "cell_type": "code",
   "execution_count": 55,
   "id": "46756235-7637-4378-bee8-959293224dec",
   "metadata": {},
   "outputs": [
    {
     "data": {
      "text/plain": [
       "[6, 60, 90, 120]"
      ]
     },
     "execution_count": 55,
     "metadata": {},
     "output_type": "execute_result"
    }
   ],
   "source": [
    "list(filter(lambda x: x%2==0 and x%3==0,l6))"
   ]
  },
  {
   "cell_type": "markdown",
   "id": "06c5be17-c465-4203-b548-c8277f2ed8d0",
   "metadata": {},
   "source": [
    "## Q6. Write a python program to find palindromes in the given list of strings using lambda and filter function"
   ]
  },
  {
   "cell_type": "code",
   "execution_count": 56,
   "id": "8c6550b5-9328-4224-aa25-ea1e4ff25cc0",
   "metadata": {},
   "outputs": [],
   "source": [
    "l7=['python', 'php', 'aba', 'radar', 'level']"
   ]
  },
  {
   "cell_type": "code",
   "execution_count": 57,
   "id": "65313f92-1ba8-48aa-8d11-e6d64dcea0d3",
   "metadata": {},
   "outputs": [
    {
     "data": {
      "text/plain": [
       "['php', 'aba', 'radar', 'level']"
      ]
     },
     "execution_count": 57,
     "metadata": {},
     "output_type": "execute_result"
    }
   ],
   "source": [
    "list(filter(lambda x: x==x[::-1],l7))"
   ]
  },
  {
   "cell_type": "code",
   "execution_count": null,
   "id": "5c74bf70-8a9a-446c-bf03-32c85bfdd33e",
   "metadata": {},
   "outputs": [],
   "source": []
  }
 ],
 "metadata": {
  "kernelspec": {
   "display_name": "Python 3 (ipykernel)",
   "language": "python",
   "name": "python3"
  },
  "language_info": {
   "codemirror_mode": {
    "name": "ipython",
    "version": 3
   },
   "file_extension": ".py",
   "mimetype": "text/x-python",
   "name": "python",
   "nbconvert_exporter": "python",
   "pygments_lexer": "ipython3",
   "version": "3.10.8"
  }
 },
 "nbformat": 4,
 "nbformat_minor": 5
}
